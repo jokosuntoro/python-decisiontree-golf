{
 "cells": [
  {
   "cell_type": "code",
   "execution_count": 1,
   "metadata": {},
   "outputs": [],
   "source": [
    "import pandas as pd\n",
    "# modul untuk membagi dataset menjadi data training dan data testing\n",
    "from sklearn.model_selection import train_test_split\n",
    "# modul untuk menghitung performa model\n",
    "from sklearn.metrics import accuracy_score,confusion_matrix,classification_report"
   ]
  },
  {
   "cell_type": "code",
   "execution_count": 2,
   "metadata": {},
   "outputs": [
    {
     "data": {
      "text/html": [
       "<div>\n",
       "<style scoped>\n",
       "    .dataframe tbody tr th:only-of-type {\n",
       "        vertical-align: middle;\n",
       "    }\n",
       "\n",
       "    .dataframe tbody tr th {\n",
       "        vertical-align: top;\n",
       "    }\n",
       "\n",
       "    .dataframe thead th {\n",
       "        text-align: right;\n",
       "    }\n",
       "</style>\n",
       "<table border=\"1\" class=\"dataframe\">\n",
       "  <thead>\n",
       "    <tr style=\"text-align: right;\">\n",
       "      <th></th>\n",
       "      <th>Cuaca</th>\n",
       "      <th>Temperatur</th>\n",
       "      <th>Kelembaban</th>\n",
       "      <th>Angin</th>\n",
       "      <th>Bermain</th>\n",
       "    </tr>\n",
       "  </thead>\n",
       "  <tbody>\n",
       "    <tr>\n",
       "      <th>0</th>\n",
       "      <td>1</td>\n",
       "      <td>85</td>\n",
       "      <td>85</td>\n",
       "      <td>0</td>\n",
       "      <td>tidak-main</td>\n",
       "    </tr>\n",
       "    <tr>\n",
       "      <th>1</th>\n",
       "      <td>1</td>\n",
       "      <td>80</td>\n",
       "      <td>90</td>\n",
       "      <td>1</td>\n",
       "      <td>tidak-main</td>\n",
       "    </tr>\n",
       "    <tr>\n",
       "      <th>2</th>\n",
       "      <td>2</td>\n",
       "      <td>83</td>\n",
       "      <td>78</td>\n",
       "      <td>0</td>\n",
       "      <td>main</td>\n",
       "    </tr>\n",
       "    <tr>\n",
       "      <th>3</th>\n",
       "      <td>3</td>\n",
       "      <td>70</td>\n",
       "      <td>96</td>\n",
       "      <td>0</td>\n",
       "      <td>main</td>\n",
       "    </tr>\n",
       "    <tr>\n",
       "      <th>4</th>\n",
       "      <td>3</td>\n",
       "      <td>68</td>\n",
       "      <td>80</td>\n",
       "      <td>0</td>\n",
       "      <td>main</td>\n",
       "    </tr>\n",
       "  </tbody>\n",
       "</table>\n",
       "</div>"
      ],
      "text/plain": [
       "   Cuaca  Temperatur  Kelembaban  Angin     Bermain\n",
       "0      1          85          85      0  tidak-main\n",
       "1      1          80          90      1  tidak-main\n",
       "2      2          83          78      0        main\n",
       "3      3          70          96      0        main\n",
       "4      3          68          80      0        main"
      ]
     },
     "execution_count": 2,
     "metadata": {},
     "output_type": "execute_result"
    }
   ],
   "source": [
    "golf = pd.read_csv('golf.csv')\n",
    "golf.head()"
   ]
  },
  {
   "cell_type": "code",
   "execution_count": 3,
   "metadata": {},
   "outputs": [
    {
     "data": {
      "text/plain": [
       "(14, 5)"
      ]
     },
     "execution_count": 3,
     "metadata": {},
     "output_type": "execute_result"
    }
   ],
   "source": [
    "golf.shape"
   ]
  },
  {
   "cell_type": "code",
   "execution_count": 4,
   "metadata": {},
   "outputs": [
    {
     "data": {
      "text/plain": [
       "Index(['Cuaca', 'Temperatur', 'Kelembaban', 'Angin', 'Bermain'], dtype='object')"
      ]
     },
     "execution_count": 4,
     "metadata": {},
     "output_type": "execute_result"
    }
   ],
   "source": [
    "golf.columns"
   ]
  },
  {
   "cell_type": "code",
   "execution_count": 5,
   "metadata": {},
   "outputs": [
    {
     "data": {
      "text/html": [
       "<div>\n",
       "<style scoped>\n",
       "    .dataframe tbody tr th:only-of-type {\n",
       "        vertical-align: middle;\n",
       "    }\n",
       "\n",
       "    .dataframe tbody tr th {\n",
       "        vertical-align: top;\n",
       "    }\n",
       "\n",
       "    .dataframe thead th {\n",
       "        text-align: right;\n",
       "    }\n",
       "</style>\n",
       "<table border=\"1\" class=\"dataframe\">\n",
       "  <thead>\n",
       "    <tr style=\"text-align: right;\">\n",
       "      <th></th>\n",
       "      <th>Cuaca</th>\n",
       "      <th>Temperatur</th>\n",
       "      <th>Kelembaban</th>\n",
       "      <th>Angin</th>\n",
       "    </tr>\n",
       "  </thead>\n",
       "  <tbody>\n",
       "    <tr>\n",
       "      <th>0</th>\n",
       "      <td>1</td>\n",
       "      <td>85</td>\n",
       "      <td>85</td>\n",
       "      <td>0</td>\n",
       "    </tr>\n",
       "    <tr>\n",
       "      <th>1</th>\n",
       "      <td>1</td>\n",
       "      <td>80</td>\n",
       "      <td>90</td>\n",
       "      <td>1</td>\n",
       "    </tr>\n",
       "    <tr>\n",
       "      <th>2</th>\n",
       "      <td>2</td>\n",
       "      <td>83</td>\n",
       "      <td>78</td>\n",
       "      <td>0</td>\n",
       "    </tr>\n",
       "    <tr>\n",
       "      <th>3</th>\n",
       "      <td>3</td>\n",
       "      <td>70</td>\n",
       "      <td>96</td>\n",
       "      <td>0</td>\n",
       "    </tr>\n",
       "    <tr>\n",
       "      <th>4</th>\n",
       "      <td>3</td>\n",
       "      <td>68</td>\n",
       "      <td>80</td>\n",
       "      <td>0</td>\n",
       "    </tr>\n",
       "  </tbody>\n",
       "</table>\n",
       "</div>"
      ],
      "text/plain": [
       "   Cuaca  Temperatur  Kelembaban  Angin\n",
       "0      1          85          85      0\n",
       "1      1          80          90      1\n",
       "2      2          83          78      0\n",
       "3      3          70          96      0\n",
       "4      3          68          80      0"
      ]
     },
     "execution_count": 5,
     "metadata": {},
     "output_type": "execute_result"
    }
   ],
   "source": [
    "golf_data = golf.drop(columns='Bermain')\n",
    "golf_data.head()"
   ]
  },
  {
   "cell_type": "code",
   "execution_count": 6,
   "metadata": {},
   "outputs": [
    {
     "data": {
      "text/plain": [
       "0    tidak-main\n",
       "1    tidak-main\n",
       "2          main\n",
       "3          main\n",
       "4          main\n",
       "Name: Bermain, dtype: object"
      ]
     },
     "execution_count": 6,
     "metadata": {},
     "output_type": "execute_result"
    }
   ],
   "source": [
    "golf_target = golf['Bermain']\n",
    "golf_target.head()"
   ]
  },
  {
   "cell_type": "code",
   "execution_count": 7,
   "metadata": {},
   "outputs": [],
   "source": [
    "xtrain, xtest, ytrain, ytest = train_test_split(golf_data, golf_target, test_size=0.3, random_state=50)"
   ]
  },
  {
   "cell_type": "code",
   "execution_count": 15,
   "metadata": {},
   "outputs": [
    {
     "name": "stdout",
     "output_type": "stream",
     "text": [
      "Nilai akurasi pada data testing: 0.8\n"
     ]
    }
   ],
   "source": [
    "from sklearn.tree import DecisionTreeClassifier\n",
    "\n",
    "tree_golf = DecisionTreeClassifier(random_state=50)\n",
    "tree_golf.fit(xtrain, ytrain)\n",
    "\n",
    "print(\"Nilai akurasi pada data testing:\", tree_golf.score(xtest, ytest))"
   ]
  },
  {
   "cell_type": "code",
   "execution_count": 16,
   "metadata": {},
   "outputs": [],
   "source": [
    "from sklearn.tree import export_graphviz\n",
    "\n",
    "export_graphviz(tree_golf, out_file=\"tree_golf.dot\", class_names=[\"tidak-main\", \"main\"],\n",
    "               feature_names=golf_data.columns, impurity=False, filled=True)"
   ]
  },
  {
   "cell_type": "markdown",
   "metadata": {},
   "source": [
    "#### Jika tidak ada module graphviz, maka:\n",
    "##### 1. Buka Anaconda Prompt\n",
    "##### 2. Ketikkan conda install python-graphviz"
   ]
  },
  {
   "cell_type": "code",
   "execution_count": 17,
   "metadata": {},
   "outputs": [
    {
     "data": {
      "image/svg+xml": [
       "<?xml version=\"1.0\" encoding=\"UTF-8\" standalone=\"no\"?>\r\n",
       "<!DOCTYPE svg PUBLIC \"-//W3C//DTD SVG 1.1//EN\"\r\n",
       " \"http://www.w3.org/Graphics/SVG/1.1/DTD/svg11.dtd\">\r\n",
       "<!-- Generated by graphviz version 2.38.0 (20140413.2041)\r\n",
       " -->\r\n",
       "<!-- Title: Tree Pages: 1 -->\r\n",
       "<svg width=\"585pt\" height=\"373pt\"\r\n",
       " viewBox=\"0.00 0.00 585.00 373.00\" xmlns=\"http://www.w3.org/2000/svg\" xmlns:xlink=\"http://www.w3.org/1999/xlink\">\r\n",
       "<g id=\"graph0\" class=\"graph\" transform=\"scale(1 1) rotate(0) translate(4 369)\">\r\n",
       "<title>Tree</title>\r\n",
       "<polygon fill=\"white\" stroke=\"none\" points=\"-4,4 -4,-369 581,-369 581,4 -4,4\"/>\r\n",
       "<!-- 0 -->\r\n",
       "<g id=\"node1\" class=\"node\"><title>0</title>\r\n",
       "<polygon fill=\"#399de5\" fill-opacity=\"0.200000\" stroke=\"black\" points=\"329.5,-365 200.5,-365 200.5,-297 329.5,-297 329.5,-365\"/>\r\n",
       "<text text-anchor=\"middle\" x=\"265\" y=\"-349.8\" font-family=\"Times New Roman,serif\" font-size=\"14.00\">Temperatur &lt;= 70.0</text>\r\n",
       "<text text-anchor=\"middle\" x=\"265\" y=\"-334.8\" font-family=\"Times New Roman,serif\" font-size=\"14.00\">samples = 9</text>\r\n",
       "<text text-anchor=\"middle\" x=\"265\" y=\"-319.8\" font-family=\"Times New Roman,serif\" font-size=\"14.00\">value = [4, 5]</text>\r\n",
       "<text text-anchor=\"middle\" x=\"265\" y=\"-304.8\" font-family=\"Times New Roman,serif\" font-size=\"14.00\">class = main</text>\r\n",
       "</g>\r\n",
       "<!-- 1 -->\r\n",
       "<g id=\"node2\" class=\"node\"><title>1</title>\r\n",
       "<polygon fill=\"#e58139\" fill-opacity=\"0.666667\" stroke=\"black\" points=\"260,-261 142,-261 142,-193 260,-193 260,-261\"/>\r\n",
       "<text text-anchor=\"middle\" x=\"201\" y=\"-245.8\" font-family=\"Times New Roman,serif\" font-size=\"14.00\">Angin &lt;= 0.5</text>\r\n",
       "<text text-anchor=\"middle\" x=\"201\" y=\"-230.8\" font-family=\"Times New Roman,serif\" font-size=\"14.00\">samples = 4</text>\r\n",
       "<text text-anchor=\"middle\" x=\"201\" y=\"-215.8\" font-family=\"Times New Roman,serif\" font-size=\"14.00\">value = [3, 1]</text>\r\n",
       "<text text-anchor=\"middle\" x=\"201\" y=\"-200.8\" font-family=\"Times New Roman,serif\" font-size=\"14.00\">class = tidak&#45;main</text>\r\n",
       "</g>\r\n",
       "<!-- 0&#45;&gt;1 -->\r\n",
       "<g id=\"edge1\" class=\"edge\"><title>0&#45;&gt;1</title>\r\n",
       "<path fill=\"none\" stroke=\"black\" d=\"M244.221,-296.884C238.8,-288.243 232.887,-278.819 227.223,-269.793\"/>\r\n",
       "<polygon fill=\"black\" stroke=\"black\" points=\"230.173,-267.91 221.894,-261.299 224.244,-271.63 230.173,-267.91\"/>\r\n",
       "<text text-anchor=\"middle\" x=\"216.315\" y=\"-281.969\" font-family=\"Times New Roman,serif\" font-size=\"14.00\">True</text>\r\n",
       "</g>\r\n",
       "<!-- 6 -->\r\n",
       "<g id=\"node7\" class=\"node\"><title>6</title>\r\n",
       "<polygon fill=\"#399de5\" fill-opacity=\"0.749020\" stroke=\"black\" points=\"375.5,-261 282.5,-261 282.5,-193 375.5,-193 375.5,-261\"/>\r\n",
       "<text text-anchor=\"middle\" x=\"329\" y=\"-245.8\" font-family=\"Times New Roman,serif\" font-size=\"14.00\">Cuaca &lt;= 1.5</text>\r\n",
       "<text text-anchor=\"middle\" x=\"329\" y=\"-230.8\" font-family=\"Times New Roman,serif\" font-size=\"14.00\">samples = 5</text>\r\n",
       "<text text-anchor=\"middle\" x=\"329\" y=\"-215.8\" font-family=\"Times New Roman,serif\" font-size=\"14.00\">value = [1, 4]</text>\r\n",
       "<text text-anchor=\"middle\" x=\"329\" y=\"-200.8\" font-family=\"Times New Roman,serif\" font-size=\"14.00\">class = main</text>\r\n",
       "</g>\r\n",
       "<!-- 0&#45;&gt;6 -->\r\n",
       "<g id=\"edge6\" class=\"edge\"><title>0&#45;&gt;6</title>\r\n",
       "<path fill=\"none\" stroke=\"black\" d=\"M285.779,-296.884C291.2,-288.243 297.113,-278.819 302.777,-269.793\"/>\r\n",
       "<polygon fill=\"black\" stroke=\"black\" points=\"305.756,-271.63 308.106,-261.299 299.827,-267.91 305.756,-271.63\"/>\r\n",
       "<text text-anchor=\"middle\" x=\"313.685\" y=\"-281.969\" font-family=\"Times New Roman,serif\" font-size=\"14.00\">False</text>\r\n",
       "</g>\r\n",
       "<!-- 2 -->\r\n",
       "<g id=\"node3\" class=\"node\"><title>2</title>\r\n",
       "<polygon fill=\"#e58139\" stroke=\"black\" points=\"118,-149.5 0,-149.5 0,-96.5 118,-96.5 118,-149.5\"/>\r\n",
       "<text text-anchor=\"middle\" x=\"59\" y=\"-134.3\" font-family=\"Times New Roman,serif\" font-size=\"14.00\">samples = 2</text>\r\n",
       "<text text-anchor=\"middle\" x=\"59\" y=\"-119.3\" font-family=\"Times New Roman,serif\" font-size=\"14.00\">value = [2, 0]</text>\r\n",
       "<text text-anchor=\"middle\" x=\"59\" y=\"-104.3\" font-family=\"Times New Roman,serif\" font-size=\"14.00\">class = tidak&#45;main</text>\r\n",
       "</g>\r\n",
       "<!-- 1&#45;&gt;2 -->\r\n",
       "<g id=\"edge2\" class=\"edge\"><title>1&#45;&gt;2</title>\r\n",
       "<path fill=\"none\" stroke=\"black\" d=\"M154.897,-192.884C138.208,-180.896 119.418,-167.399 102.922,-155.549\"/>\r\n",
       "<polygon fill=\"black\" stroke=\"black\" points=\"104.692,-152.511 94.5277,-149.52 100.608,-158.197 104.692,-152.511\"/>\r\n",
       "</g>\r\n",
       "<!-- 3 -->\r\n",
       "<g id=\"node4\" class=\"node\"><title>3</title>\r\n",
       "<polygon fill=\"none\" stroke=\"black\" points=\"265.5,-157 136.5,-157 136.5,-89 265.5,-89 265.5,-157\"/>\r\n",
       "<text text-anchor=\"middle\" x=\"201\" y=\"-141.8\" font-family=\"Times New Roman,serif\" font-size=\"14.00\">Temperatur &lt;= 64.5</text>\r\n",
       "<text text-anchor=\"middle\" x=\"201\" y=\"-126.8\" font-family=\"Times New Roman,serif\" font-size=\"14.00\">samples = 2</text>\r\n",
       "<text text-anchor=\"middle\" x=\"201\" y=\"-111.8\" font-family=\"Times New Roman,serif\" font-size=\"14.00\">value = [1, 1]</text>\r\n",
       "<text text-anchor=\"middle\" x=\"201\" y=\"-96.8\" font-family=\"Times New Roman,serif\" font-size=\"14.00\">class = tidak&#45;main</text>\r\n",
       "</g>\r\n",
       "<!-- 1&#45;&gt;3 -->\r\n",
       "<g id=\"edge3\" class=\"edge\"><title>1&#45;&gt;3</title>\r\n",
       "<path fill=\"none\" stroke=\"black\" d=\"M201,-192.884C201,-184.778 201,-175.982 201,-167.472\"/>\r\n",
       "<polygon fill=\"black\" stroke=\"black\" points=\"204.5,-167.299 201,-157.299 197.5,-167.299 204.5,-167.299\"/>\r\n",
       "</g>\r\n",
       "<!-- 4 -->\r\n",
       "<g id=\"node5\" class=\"node\"><title>4</title>\r\n",
       "<polygon fill=\"#e58139\" stroke=\"black\" points=\"179,-53 61,-53 61,-0 179,-0 179,-53\"/>\r\n",
       "<text text-anchor=\"middle\" x=\"120\" y=\"-37.8\" font-family=\"Times New Roman,serif\" font-size=\"14.00\">samples = 1</text>\r\n",
       "<text text-anchor=\"middle\" x=\"120\" y=\"-22.8\" font-family=\"Times New Roman,serif\" font-size=\"14.00\">value = [1, 0]</text>\r\n",
       "<text text-anchor=\"middle\" x=\"120\" y=\"-7.8\" font-family=\"Times New Roman,serif\" font-size=\"14.00\">class = tidak&#45;main</text>\r\n",
       "</g>\r\n",
       "<!-- 3&#45;&gt;4 -->\r\n",
       "<g id=\"edge4\" class=\"edge\"><title>3&#45;&gt;4</title>\r\n",
       "<path fill=\"none\" stroke=\"black\" d=\"M172.67,-88.9485C164.907,-79.892 156.487,-70.0682 148.704,-60.9875\"/>\r\n",
       "<polygon fill=\"black\" stroke=\"black\" points=\"151.225,-58.5515 142.06,-53.2367 145.911,-63.1071 151.225,-58.5515\"/>\r\n",
       "</g>\r\n",
       "<!-- 5 -->\r\n",
       "<g id=\"node6\" class=\"node\"><title>5</title>\r\n",
       "<polygon fill=\"#399de5\" stroke=\"black\" points=\"288.5,-53 197.5,-53 197.5,-0 288.5,-0 288.5,-53\"/>\r\n",
       "<text text-anchor=\"middle\" x=\"243\" y=\"-37.8\" font-family=\"Times New Roman,serif\" font-size=\"14.00\">samples = 1</text>\r\n",
       "<text text-anchor=\"middle\" x=\"243\" y=\"-22.8\" font-family=\"Times New Roman,serif\" font-size=\"14.00\">value = [0, 1]</text>\r\n",
       "<text text-anchor=\"middle\" x=\"243\" y=\"-7.8\" font-family=\"Times New Roman,serif\" font-size=\"14.00\">class = main</text>\r\n",
       "</g>\r\n",
       "<!-- 3&#45;&gt;5 -->\r\n",
       "<g id=\"edge5\" class=\"edge\"><title>3&#45;&gt;5</title>\r\n",
       "<path fill=\"none\" stroke=\"black\" d=\"M215.69,-88.9485C219.471,-80.4408 223.553,-71.2562 227.379,-62.6464\"/>\r\n",
       "<polygon fill=\"black\" stroke=\"black\" points=\"230.698,-63.7963 231.561,-53.2367 224.302,-60.9533 230.698,-63.7963\"/>\r\n",
       "</g>\r\n",
       "<!-- 7 -->\r\n",
       "<g id=\"node8\" class=\"node\"><title>7</title>\r\n",
       "<polygon fill=\"#399de5\" stroke=\"black\" points=\"374.5,-149.5 283.5,-149.5 283.5,-96.5 374.5,-96.5 374.5,-149.5\"/>\r\n",
       "<text text-anchor=\"middle\" x=\"329\" y=\"-134.3\" font-family=\"Times New Roman,serif\" font-size=\"14.00\">samples = 3</text>\r\n",
       "<text text-anchor=\"middle\" x=\"329\" y=\"-119.3\" font-family=\"Times New Roman,serif\" font-size=\"14.00\">value = [0, 3]</text>\r\n",
       "<text text-anchor=\"middle\" x=\"329\" y=\"-104.3\" font-family=\"Times New Roman,serif\" font-size=\"14.00\">class = main</text>\r\n",
       "</g>\r\n",
       "<!-- 6&#45;&gt;7 -->\r\n",
       "<g id=\"edge7\" class=\"edge\"><title>6&#45;&gt;7</title>\r\n",
       "<path fill=\"none\" stroke=\"black\" d=\"M329,-192.884C329,-182.326 329,-170.597 329,-159.854\"/>\r\n",
       "<polygon fill=\"black\" stroke=\"black\" points=\"332.5,-159.52 329,-149.52 325.5,-159.52 332.5,-159.52\"/>\r\n",
       "</g>\r\n",
       "<!-- 8 -->\r\n",
       "<g id=\"node9\" class=\"node\"><title>8</title>\r\n",
       "<polygon fill=\"none\" stroke=\"black\" points=\"521.5,-157 392.5,-157 392.5,-89 521.5,-89 521.5,-157\"/>\r\n",
       "<text text-anchor=\"middle\" x=\"457\" y=\"-141.8\" font-family=\"Times New Roman,serif\" font-size=\"14.00\">Temperatur &lt;= 71.5</text>\r\n",
       "<text text-anchor=\"middle\" x=\"457\" y=\"-126.8\" font-family=\"Times New Roman,serif\" font-size=\"14.00\">samples = 2</text>\r\n",
       "<text text-anchor=\"middle\" x=\"457\" y=\"-111.8\" font-family=\"Times New Roman,serif\" font-size=\"14.00\">value = [1, 1]</text>\r\n",
       "<text text-anchor=\"middle\" x=\"457\" y=\"-96.8\" font-family=\"Times New Roman,serif\" font-size=\"14.00\">class = tidak&#45;main</text>\r\n",
       "</g>\r\n",
       "<!-- 6&#45;&gt;8 -->\r\n",
       "<g id=\"edge8\" class=\"edge\"><title>6&#45;&gt;8</title>\r\n",
       "<path fill=\"none\" stroke=\"black\" d=\"M370.558,-192.884C382.295,-183.531 395.184,-173.259 407.346,-163.568\"/>\r\n",
       "<polygon fill=\"black\" stroke=\"black\" points=\"409.573,-166.269 415.213,-157.299 405.211,-160.794 409.573,-166.269\"/>\r\n",
       "</g>\r\n",
       "<!-- 9 -->\r\n",
       "<g id=\"node10\" class=\"node\"><title>9</title>\r\n",
       "<polygon fill=\"#399de5\" stroke=\"black\" points=\"440.5,-53 349.5,-53 349.5,-0 440.5,-0 440.5,-53\"/>\r\n",
       "<text text-anchor=\"middle\" x=\"395\" y=\"-37.8\" font-family=\"Times New Roman,serif\" font-size=\"14.00\">samples = 1</text>\r\n",
       "<text text-anchor=\"middle\" x=\"395\" y=\"-22.8\" font-family=\"Times New Roman,serif\" font-size=\"14.00\">value = [0, 1]</text>\r\n",
       "<text text-anchor=\"middle\" x=\"395\" y=\"-7.8\" font-family=\"Times New Roman,serif\" font-size=\"14.00\">class = main</text>\r\n",
       "</g>\r\n",
       "<!-- 8&#45;&gt;9 -->\r\n",
       "<g id=\"edge9\" class=\"edge\"><title>8&#45;&gt;9</title>\r\n",
       "<path fill=\"none\" stroke=\"black\" d=\"M435.315,-88.9485C429.554,-80.1664 423.319,-70.6629 417.514,-61.815\"/>\r\n",
       "<polygon fill=\"black\" stroke=\"black\" points=\"420.297,-59.6779 411.885,-53.2367 414.445,-63.5178 420.297,-59.6779\"/>\r\n",
       "</g>\r\n",
       "<!-- 10 -->\r\n",
       "<g id=\"node11\" class=\"node\"><title>10</title>\r\n",
       "<polygon fill=\"#e58139\" stroke=\"black\" points=\"577,-53 459,-53 459,-0 577,-0 577,-53\"/>\r\n",
       "<text text-anchor=\"middle\" x=\"518\" y=\"-37.8\" font-family=\"Times New Roman,serif\" font-size=\"14.00\">samples = 1</text>\r\n",
       "<text text-anchor=\"middle\" x=\"518\" y=\"-22.8\" font-family=\"Times New Roman,serif\" font-size=\"14.00\">value = [1, 0]</text>\r\n",
       "<text text-anchor=\"middle\" x=\"518\" y=\"-7.8\" font-family=\"Times New Roman,serif\" font-size=\"14.00\">class = tidak&#45;main</text>\r\n",
       "</g>\r\n",
       "<!-- 8&#45;&gt;10 -->\r\n",
       "<g id=\"edge10\" class=\"edge\"><title>8&#45;&gt;10</title>\r\n",
       "<path fill=\"none\" stroke=\"black\" d=\"M478.335,-88.9485C484.004,-80.1664 490.138,-70.6629 495.85,-61.815\"/>\r\n",
       "<polygon fill=\"black\" stroke=\"black\" points=\"498.904,-63.5365 501.387,-53.2367 493.023,-59.7402 498.904,-63.5365\"/>\r\n",
       "</g>\r\n",
       "</g>\r\n",
       "</svg>\r\n"
      ],
      "text/plain": [
       "<graphviz.files.Source at 0x1e24cf52780>"
      ]
     },
     "execution_count": 17,
     "metadata": {},
     "output_type": "execute_result"
    }
   ],
   "source": [
    "import graphviz\n",
    "\n",
    "with open(\"tree_golf.dot\") as f:\n",
    "    dot_graph = f.read()\n",
    "graphviz.Source(dot_graph)"
   ]
  },
  {
   "cell_type": "code",
   "execution_count": null,
   "metadata": {},
   "outputs": [],
   "source": []
  },
  {
   "cell_type": "code",
   "execution_count": null,
   "metadata": {},
   "outputs": [],
   "source": []
  }
 ],
 "metadata": {
  "kernelspec": {
   "display_name": "Python 3",
   "language": "python",
   "name": "python3"
  },
  "language_info": {
   "codemirror_mode": {
    "name": "ipython",
    "version": 3
   },
   "file_extension": ".py",
   "mimetype": "text/x-python",
   "name": "python",
   "nbconvert_exporter": "python",
   "pygments_lexer": "ipython3",
   "version": "3.7.1"
  }
 },
 "nbformat": 4,
 "nbformat_minor": 2
}
